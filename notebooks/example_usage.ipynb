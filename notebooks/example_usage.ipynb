{
 "cells": [
  {
   "cell_type": "code",
   "execution_count": 1,
   "id": "74608e70",
   "metadata": {},
   "outputs": [],
   "source": [
    "from src.database.qdrant import LocalQdrantClient"
   ]
  },
  {
   "cell_type": "code",
   "execution_count": 2,
   "id": "6e6e7f48",
   "metadata": {},
   "outputs": [
    {
     "data": {
      "text/plain": [
       "<src.database.qdrant.LocalQdrantClient at 0x7fd84238d750>"
      ]
     },
     "execution_count": 2,
     "metadata": {},
     "output_type": "execute_result"
    }
   ],
   "source": [
    "LocalQdrantClient(collection_name=\"test_rag\", vector_dim=354)"
   ]
  },
  {
   "cell_type": "code",
   "execution_count": null,
   "id": "767520bf",
   "metadata": {},
   "outputs": [],
   "source": []
  }
 ],
 "metadata": {
  "kernelspec": {
   "display_name": "rag",
   "language": "python",
   "name": "pyenv_rag"
  },
  "language_info": {
   "codemirror_mode": {
    "name": "ipython",
    "version": 3
   },
   "file_extension": ".py",
   "mimetype": "text/x-python",
   "name": "python",
   "nbconvert_exporter": "python",
   "pygments_lexer": "ipython3",
   "version": "3.11.0"
  }
 },
 "nbformat": 4,
 "nbformat_minor": 5
}
